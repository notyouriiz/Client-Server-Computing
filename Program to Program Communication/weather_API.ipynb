{
 "cells": [
  {
   "cell_type": "markdown",
   "metadata": {},
   "source": [
    "# How To Call Data from API\n",
    "An Example of how to call API data from <b>Open Weather API</b> using Jupyter Notebook"
   ]
  },
  {
   "cell_type": "markdown",
   "metadata": {},
   "source": [
    "### Weather API Parameters\n",
    "<b> https://api.openweathermap.org/data/3.0/onecall/overview?lat={lat}&lon={lon}&appid={API key} </b>\n",
    "\n",
    "- **lat** *(required)*  \n",
    "  Latitude in decimal format. Valid range: **-90 to 90**\n",
    "\n",
    "- **lon** *(required)*  \n",
    "  Longitude in decimal format. Valid range: **-180 to 180**\n",
    "\n",
    "- **appid** *(required)*  \n",
    "  Your unique API key. You can find it in your account under the **API key** tab.\n",
    "\n",
    "- **date** *(optional)*  \n",
    "  The date for which you want the weather summary in **YYYY-MM-DD** format.  \n",
    "  - Data available: **today and tomorrow**  \n",
    "  - Default: current date (based on the timezone of the coordinates provided)\n",
    "\n",
    "- **units** *(optional)*  \n",
    "  Units of measurement. Options:  \n",
    "  - **standard** (default)  \n",
    "  - **metric**  \n",
    "  - **imperial**"
   ]
  }
 ],
 "metadata": {
  "language_info": {
   "name": "python"
  }
 },
 "nbformat": 4,
 "nbformat_minor": 2
}
